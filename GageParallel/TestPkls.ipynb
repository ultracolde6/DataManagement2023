{
 "cells": [
  {
   "cell_type": "markdown",
   "metadata": {},
   "source": [
    "It looks like a slow and bad implementation of the gage parallel processing is working, so let us actually test those pickle files and see if they are behaving properly as compared to the usual analysis NB method of running a large batch at the end"
   ]
  },
  {
   "cell_type": "markdown",
   "metadata": {},
   "source": [
    "Testing steps: We will perform a parallel processing by dragging in files in increments of 50 and then compare it to simply running the raw processing on a run of 200 files with the old analysis notebook"
   ]
  },
  {
   "cell_type": "markdown",
   "metadata": {},
   "source": [
    "Let's load the parallel files"
   ]
  },
  {
   "cell_type": "code",
   "execution_count": 11,
   "metadata": {},
   "outputs": [],
   "source": [
    "import numpy as np\n",
    "import pickle\n",
    "import matplotlib.pyplot as plt"
   ]
  },
  {
   "cell_type": "code",
   "execution_count": 9,
   "metadata": {},
   "outputs": [
    {
     "ename": "NameError",
     "evalue": "name 'N_cycle' is not defined",
     "output_type": "error",
     "traceback": [
      "\u001b[0;31m---------------------------------------------------------------------------\u001b[0m",
      "\u001b[0;31mNameError\u001b[0m                                 Traceback (most recent call last)",
      "Cell \u001b[0;32mIn[9], line 11\u001b[0m\n\u001b[1;32m      8\u001b[0m t0_list \u001b[38;5;241m=\u001b[39m timebin_array[:,\u001b[38;5;241m0\u001b[39m]\n\u001b[1;32m      9\u001b[0m t1_list \u001b[38;5;241m=\u001b[39m timebin_array[:,\u001b[38;5;241m1\u001b[39m]\n\u001b[0;32m---> 11\u001b[0m time_select\u001b[38;5;241m=\u001b[39mnp\u001b[38;5;241m.\u001b[39marray([t_pre\u001b[38;5;241m+\u001b[39mi\u001b[38;5;241m*\u001b[39mt_cav_frame \u001b[38;5;28;01mfor\u001b[39;00m i \u001b[38;5;129;01min\u001b[39;00m \u001b[38;5;28mrange\u001b[39m(\u001b[43mN_cycle\u001b[49m)])\n",
      "\u001b[0;31mNameError\u001b[0m: name 'N_cycle' is not defined"
     ]
    }
   ],
   "source": [
    "cmplx_amp_array = pickle.load(open(\"TestPkl/run0_hann_gage_cmplx_amp_5_1.pkl\", \"rb\"))\n",
    "amp_array = abs(cmplx_amp_array)\n",
    "phase_array = np.unwrap(np.angle(cmplx_amp_array))\n",
    "x_quad_array = np.real(cmplx_amp_array)\n",
    "p_quad_array = np.imag(cmplx_amp_array)\n",
    "\n",
    "timebin_array = pickle.load(open(\"TestPkl/run0_hann_gage_timebin_5_1.pkl\", \"rb\"))\n",
    "t0_list = timebin_array[:,0]\n",
    "t1_list = timebin_array[:,1]\n",
    "\n",
    "time_select=np.array([t_pre+i*t_cav_frame for i in range(N_cycle)])"
   ]
  },
  {
   "cell_type": "code",
   "execution_count": 10,
   "metadata": {},
   "outputs": [],
   "source": [
    "\n",
    "plot_het = False\n",
    "\n",
    "\n",
    "if plot_het:\n",
    "    \n",
    "    fig, axs = plt.subplots(ncols=2*num_segments, nrows=num_points*len(twz_num_plot), sharex=True, figsize=(40,5*num_points*len(twz_num_plot)))\n",
    "    for point_idx in range(len(point_list)):\n",
    "        # inner_idx = point_idx%num_points_inner\n",
    "        # outer_idx = point_idx//num_points_inner\n",
    "        \n",
    "        outer_idx, inner_idx = get_outer_inner_point(point_idx, num_points_outer, num_points_inner, parallel=point_parallel)\n",
    "        ind_x = point_idx\n",
    "        corr_list = []\n",
    "        for shot in range(num_shots_sliced):\n",
    "            rcolor = shot/num_shots_sliced\n",
    "            for twz_num_ind in range(len(twz_num_plot)):\n",
    "                if mask_xval[ind_x][shot] & mask_array_matrix[twz_num_ind][shot]:\n",
    "                    # if ind_x==1:\n",
    "                    #     print(shot)\n",
    "                    for frame in range(num_frames_cav):\n",
    "                        if num_points > 1:\n",
    "                            plt.sca(axs[ind_x+twz_num_ind*num_points, frame])\n",
    "                        else:\n",
    "                            plt.sca(axs[frame])\n",
    "                        plt.plot(t0_list, amp_array[1,shot,frame],c=(rcolor,0,1-rcolor)) #, label='het')\n",
    "                        if np.mean(amp_array[1,shot]>100):\n",
    "                            print(shot)\n",
    "                        plt.ylabel('amplitude')\n",
    "                        # for t in time_select:\n",
    "                            # plt.axvline(t, c='k')\n",
    "                            # plt.axvline(t+t_probe, c='k',ls=\"--\")\n",
    "                            # plt.axvline(t+t_probe_het, c='k')\n",
    "                        plt.title(point_name_outer+'={:.3f}'.format(point_list_outer[outer_idx])+', '+\\\n",
    "                                point_name_inner+'={:.3f}'.format(point_list_inner[inner_idx])+', frame {:.0f}'.format(frame))\n",
    "                        # plt.ylim(0,60)\n",
    "\n",
    "                        if num_points > 1:\n",
    "                            plt.sca(axs[ind_x+twz_num_ind*num_points,num_frames_cav+frame])\n",
    "                        else:\n",
    "                            plt.sca(axs[num_frames_cav+frame])\n",
    "\n",
    "                        plt.plot(t0_list, (np.unwrap(((phase_array[0,shot,frame]*2-phase_array[1,shot,frame])%(2*np.pi)),period=2*np.pi)/np.pi/2),c=(rcolor,0,1-rcolor))\n",
    "                        plt.title(f'N={twz_num_plot[twz_num_ind]}')\n",
    "                        corr_shot_temp = []\n",
    "                        amp_shot_temp = []\n",
    "                        # for t in time_select:\n",
    "                            # plt.axvline(t, c='k')\n",
    "                            # plt.axvline(t+t_probe, c='k',ls=\"--\")\n",
    "                            # plt.axvline(t+t_probe_het, c='k')\n",
    "\n",
    "\n",
    "                        plt.xlabel('time [us]')\n",
    "                        plt.ylabel('phase difference [2pi]')\n"
   ]
  },
  {
   "cell_type": "code",
   "execution_count": null,
   "metadata": {},
   "outputs": [],
   "source": []
  }
 ],
 "metadata": {
  "kernelspec": {
   "display_name": "datastreamvenv",
   "language": "python",
   "name": "python3"
  },
  "language_info": {
   "codemirror_mode": {
    "name": "ipython",
    "version": 3
   },
   "file_extension": ".py",
   "mimetype": "text/x-python",
   "name": "python",
   "nbconvert_exporter": "python",
   "pygments_lexer": "ipython3",
   "version": "3.10.11"
  }
 },
 "nbformat": 4,
 "nbformat_minor": 2
}
